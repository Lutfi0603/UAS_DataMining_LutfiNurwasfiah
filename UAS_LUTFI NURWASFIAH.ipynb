{
 "cells": [
  {
   "cell_type": "markdown",
   "id": "a9916ee8",
   "metadata": {},
   "source": [
    "Analisa Data Korban Titanic Menggunakan Pemograman PYTHON \n",
    "\n",
    "Sebelum Memulai Tahapan Analisa Data Korban Kapal Titanic, Pertama-Tama Kita Harus Tau Terlebih Dahulu Apa Itu Logistic Regression. Logistic Regression Merupakan Suatu Algoritma Atau Teknik Statistika Yang Digunakan Untuk Melakukan Prediksi Terhadap Suatu Pernyataan. Algoritma Ini Juga Dapat Disebut Sebagai Algoritma Klasifikasi Untuk Mencari Hubungan Dan Klasifikasi Antara Setiap Variabel Independen Dengan Variabel Dependen.\n",
    "\n",
    "Pada Proses Analisa Data Menggunakan Python, Pertama-Tama Kita Harus Panggil Dulu Library Yang Kita Butuhkan Untuk Proses Analisa"
   ]
  },
  {
   "cell_type": "code",
   "execution_count": null,
   "id": "d557c15c",
   "metadata": {},
   "outputs": [],
   "source": [
    "import pandas as pd\n",
    "import numpy as np\n",
    "import seaborn as sns "
   ]
  },
  {
   "cell_type": "markdown",
   "id": "31ae0fc8",
   "metadata": {},
   "source": [
    "Lalu Kita Panggil Dataset Yang Akan Kita Gunakan Dan Tampilkan 10 Data Pertama Dari Dataset Tersebut. Disini Nama Dataset Kita Yaitu Titanic.Csv"
   ]
  },
  {
   "cell_type": "code",
   "execution_count": 9,
   "id": "c04d51d5",
   "metadata": {},
   "outputs": [
    {
     "data": {
      "text/html": [
       "<div>\n",
       "<style scoped>\n",
       "    .dataframe tbody tr th:only-of-type {\n",
       "        vertical-align: middle;\n",
       "    }\n",
       "\n",
       "    .dataframe tbody tr th {\n",
       "        vertical-align: top;\n",
       "    }\n",
       "\n",
       "    .dataframe thead th {\n",
       "        text-align: right;\n",
       "    }\n",
       "</style>\n",
       "<table border=\"1\" class=\"dataframe\">\n",
       "  <thead>\n",
       "    <tr style=\"text-align: right;\">\n",
       "      <th></th>\n",
       "      <th>PassengerId</th>\n",
       "      <th>Survived</th>\n",
       "      <th>Pclass</th>\n",
       "      <th>Name</th>\n",
       "      <th>Sex</th>\n",
       "      <th>Age</th>\n",
       "      <th>SibSp</th>\n",
       "      <th>Parch</th>\n",
       "      <th>Ticket</th>\n",
       "      <th>Fare</th>\n",
       "      <th>Cabin</th>\n",
       "      <th>Embarked</th>\n",
       "    </tr>\n",
       "  </thead>\n",
       "  <tbody>\n",
       "    <tr>\n",
       "      <th>0</th>\n",
       "      <td>1</td>\n",
       "      <td>0</td>\n",
       "      <td>3</td>\n",
       "      <td>Braund, Mr. Owen Harris</td>\n",
       "      <td>male</td>\n",
       "      <td>22.0</td>\n",
       "      <td>1</td>\n",
       "      <td>0</td>\n",
       "      <td>A/5 21171</td>\n",
       "      <td>7.2500</td>\n",
       "      <td>NaN</td>\n",
       "      <td>S</td>\n",
       "    </tr>\n",
       "    <tr>\n",
       "      <th>1</th>\n",
       "      <td>2</td>\n",
       "      <td>1</td>\n",
       "      <td>1</td>\n",
       "      <td>Cumings, Mrs. John Bradley (Florence Briggs Th...</td>\n",
       "      <td>female</td>\n",
       "      <td>38.0</td>\n",
       "      <td>1</td>\n",
       "      <td>0</td>\n",
       "      <td>PC 17599</td>\n",
       "      <td>71.2833</td>\n",
       "      <td>C85</td>\n",
       "      <td>C</td>\n",
       "    </tr>\n",
       "    <tr>\n",
       "      <th>2</th>\n",
       "      <td>3</td>\n",
       "      <td>1</td>\n",
       "      <td>3</td>\n",
       "      <td>Heikkinen, Miss. Laina</td>\n",
       "      <td>female</td>\n",
       "      <td>26.0</td>\n",
       "      <td>0</td>\n",
       "      <td>0</td>\n",
       "      <td>STON/O2. 3101282</td>\n",
       "      <td>7.9250</td>\n",
       "      <td>NaN</td>\n",
       "      <td>S</td>\n",
       "    </tr>\n",
       "    <tr>\n",
       "      <th>3</th>\n",
       "      <td>4</td>\n",
       "      <td>1</td>\n",
       "      <td>1</td>\n",
       "      <td>Futrelle, Mrs. Jacques Heath (Lily May Peel)</td>\n",
       "      <td>female</td>\n",
       "      <td>35.0</td>\n",
       "      <td>1</td>\n",
       "      <td>0</td>\n",
       "      <td>113803</td>\n",
       "      <td>53.1000</td>\n",
       "      <td>C123</td>\n",
       "      <td>S</td>\n",
       "    </tr>\n",
       "    <tr>\n",
       "      <th>4</th>\n",
       "      <td>5</td>\n",
       "      <td>0</td>\n",
       "      <td>3</td>\n",
       "      <td>Allen, Mr. William Henry</td>\n",
       "      <td>male</td>\n",
       "      <td>35.0</td>\n",
       "      <td>0</td>\n",
       "      <td>0</td>\n",
       "      <td>373450</td>\n",
       "      <td>8.0500</td>\n",
       "      <td>NaN</td>\n",
       "      <td>S</td>\n",
       "    </tr>\n",
       "    <tr>\n",
       "      <th>5</th>\n",
       "      <td>6</td>\n",
       "      <td>0</td>\n",
       "      <td>3</td>\n",
       "      <td>Moran, Mr. James</td>\n",
       "      <td>male</td>\n",
       "      <td>NaN</td>\n",
       "      <td>0</td>\n",
       "      <td>0</td>\n",
       "      <td>330877</td>\n",
       "      <td>8.4583</td>\n",
       "      <td>NaN</td>\n",
       "      <td>Q</td>\n",
       "    </tr>\n",
       "    <tr>\n",
       "      <th>6</th>\n",
       "      <td>7</td>\n",
       "      <td>0</td>\n",
       "      <td>1</td>\n",
       "      <td>McCarthy, Mr. Timothy J</td>\n",
       "      <td>male</td>\n",
       "      <td>54.0</td>\n",
       "      <td>0</td>\n",
       "      <td>0</td>\n",
       "      <td>17463</td>\n",
       "      <td>51.8625</td>\n",
       "      <td>E46</td>\n",
       "      <td>S</td>\n",
       "    </tr>\n",
       "    <tr>\n",
       "      <th>7</th>\n",
       "      <td>8</td>\n",
       "      <td>0</td>\n",
       "      <td>3</td>\n",
       "      <td>Palsson, Master. Gosta Leonard</td>\n",
       "      <td>male</td>\n",
       "      <td>2.0</td>\n",
       "      <td>3</td>\n",
       "      <td>1</td>\n",
       "      <td>349909</td>\n",
       "      <td>21.0750</td>\n",
       "      <td>NaN</td>\n",
       "      <td>S</td>\n",
       "    </tr>\n",
       "    <tr>\n",
       "      <th>8</th>\n",
       "      <td>9</td>\n",
       "      <td>1</td>\n",
       "      <td>3</td>\n",
       "      <td>Johnson, Mrs. Oscar W (Elisabeth Vilhelmina Berg)</td>\n",
       "      <td>female</td>\n",
       "      <td>27.0</td>\n",
       "      <td>0</td>\n",
       "      <td>2</td>\n",
       "      <td>347742</td>\n",
       "      <td>11.1333</td>\n",
       "      <td>NaN</td>\n",
       "      <td>S</td>\n",
       "    </tr>\n",
       "    <tr>\n",
       "      <th>9</th>\n",
       "      <td>10</td>\n",
       "      <td>1</td>\n",
       "      <td>2</td>\n",
       "      <td>Nasser, Mrs. Nicholas (Adele Achem)</td>\n",
       "      <td>female</td>\n",
       "      <td>14.0</td>\n",
       "      <td>1</td>\n",
       "      <td>0</td>\n",
       "      <td>237736</td>\n",
       "      <td>30.0708</td>\n",
       "      <td>NaN</td>\n",
       "      <td>C</td>\n",
       "    </tr>\n",
       "  </tbody>\n",
       "</table>\n",
       "</div>"
      ],
      "text/plain": [
       "   PassengerId  Survived  Pclass  \\\n",
       "0            1         0       3   \n",
       "1            2         1       1   \n",
       "2            3         1       3   \n",
       "3            4         1       1   \n",
       "4            5         0       3   \n",
       "5            6         0       3   \n",
       "6            7         0       1   \n",
       "7            8         0       3   \n",
       "8            9         1       3   \n",
       "9           10         1       2   \n",
       "\n",
       "                                                Name     Sex   Age  SibSp  \\\n",
       "0                            Braund, Mr. Owen Harris    male  22.0      1   \n",
       "1  Cumings, Mrs. John Bradley (Florence Briggs Th...  female  38.0      1   \n",
       "2                             Heikkinen, Miss. Laina  female  26.0      0   \n",
       "3       Futrelle, Mrs. Jacques Heath (Lily May Peel)  female  35.0      1   \n",
       "4                           Allen, Mr. William Henry    male  35.0      0   \n",
       "5                                   Moran, Mr. James    male   NaN      0   \n",
       "6                            McCarthy, Mr. Timothy J    male  54.0      0   \n",
       "7                     Palsson, Master. Gosta Leonard    male   2.0      3   \n",
       "8  Johnson, Mrs. Oscar W (Elisabeth Vilhelmina Berg)  female  27.0      0   \n",
       "9                Nasser, Mrs. Nicholas (Adele Achem)  female  14.0      1   \n",
       "\n",
       "   Parch            Ticket     Fare Cabin Embarked  \n",
       "0      0         A/5 21171   7.2500   NaN        S  \n",
       "1      0          PC 17599  71.2833   C85        C  \n",
       "2      0  STON/O2. 3101282   7.9250   NaN        S  \n",
       "3      0            113803  53.1000  C123        S  \n",
       "4      0            373450   8.0500   NaN        S  \n",
       "5      0            330877   8.4583   NaN        Q  \n",
       "6      0             17463  51.8625   E46        S  \n",
       "7      1            349909  21.0750   NaN        S  \n",
       "8      2            347742  11.1333   NaN        S  \n",
       "9      0            237736  30.0708   NaN        C  "
      ]
     },
     "execution_count": 9,
     "metadata": {},
     "output_type": "execute_result"
    }
   ],
   "source": [
    "data = pd.read_csv('titanic.csv') \n",
    "data.head(10)"
   ]
  },
  {
   "cell_type": "markdown",
   "id": "ec9911c1",
   "metadata": {},
   "source": [
    "Selanjutnya Kita Lihat Informasi Dari Data Yang Kita Miliki Tersebut. Dapat Dilihat Dari Sintak Dibawah Ini Bahwa Total Data Yang Ada Pada Dataset Ini Yaitu 891 Data Dengan 12 Kolom."
   ]
  },
  {
   "cell_type": "code",
   "execution_count": 10,
   "id": "cf693b1c",
   "metadata": {},
   "outputs": [
    {
     "name": "stdout",
     "output_type": "stream",
     "text": [
      "Total Data :  (891, 12) \n",
      "\n",
      "<class 'pandas.core.frame.DataFrame'>\n",
      "RangeIndex: 891 entries, 0 to 890\n",
      "Data columns (total 12 columns):\n",
      " #   Column       Non-Null Count  Dtype  \n",
      "---  ------       --------------  -----  \n",
      " 0   PassengerId  891 non-null    int64  \n",
      " 1   Survived     891 non-null    int64  \n",
      " 2   Pclass       891 non-null    int64  \n",
      " 3   Name         891 non-null    object \n",
      " 4   Sex          891 non-null    object \n",
      " 5   Age          714 non-null    float64\n",
      " 6   SibSp        891 non-null    int64  \n",
      " 7   Parch        891 non-null    int64  \n",
      " 8   Ticket       891 non-null    object \n",
      " 9   Fare         891 non-null    float64\n",
      " 10  Cabin        204 non-null    object \n",
      " 11  Embarked     889 non-null    object \n",
      "dtypes: float64(2), int64(5), object(5)\n",
      "memory usage: 83.7+ KB\n"
     ]
    }
   ],
   "source": [
    "print(\"Total Data : \", data.shape, \"\\n\")\n",
    "data.info()"
   ]
  },
  {
   "cell_type": "markdown",
   "id": "917f2b0f",
   "metadata": {},
   "source": [
    "Lalu Kita Lihat Grafik Banyaknya Data Korban Yang Selamat Dan Tidak Selamat Dari Dataset Ini. Dari Grafik Yang Dihasilkan Dapat Dilihat Bahwa Total Jumlah Korban Yang Tidak Selamat (0) Lebih Banyak Dibandingkan Korban Yang Selamat (1)."
   ]
  },
  {
   "cell_type": "code",
   "execution_count": 11,
   "id": "f450c8bc",
   "metadata": {},
   "outputs": [
    {
     "data": {
      "text/plain": [
       "<Axes: xlabel='Survived', ylabel='count'>"
      ]
     },
     "execution_count": 11,
     "metadata": {},
     "output_type": "execute_result"
    },
    {
     "data": {
      "image/png": "[encoded data removed]",
      "text/plain": [
       "<Figure size 640x480 with 1 Axes>"
      ]
     },
     "metadata": {},
     "output_type": "display_data"
    }
   ],
   "source": [
    "sns.countplot(x=\"Survived\", data=data)"
   ]
  },
  {
   "cell_type": "markdown",
   "id": "834d1739",
   "metadata": {},
   "source": [
    "Lalu Kita Lihat Grafik Terhadap Banyaknya Data Korban Yang Selamat Dan Tidak Selamat Dari Dataset Ini. Data Yang Ditampilkan Ini Dikelompokkan Berdasarkan Kolom Jenis Kelamin (Sex). Dapat Kita Lihat Bahwa Banyaknya Korban Yang Tidak Selamat Tersebut Berjenis Kelamin Laki-Laki."
   ]
  },
  {
   "cell_type": "code",
   "execution_count": 12,
   "id": "9cabb9b3",
   "metadata": {},
   "outputs": [
    {
     "data": {
      "text/plain": [
       "<Axes: xlabel='Survived', ylabel='count'>"
      ]
     },
     "execution_count": 12,
     "metadata": {},
     "output_type": "execute_result"
    },
    {
     "data": {
      "image/png": "[encoded data removed]",
      "text/plain": [
       "<Figure size 640x480 with 1 Axes>"
      ]
     },
     "metadata": {},
     "output_type": "display_data"
    }
   ],
   "source": [
    "sns.countplot(x=\"Survived\", hue=\"Sex\", data=data)"
   ]
  },
  {
   "cell_type": "markdown",
   "id": "44922a3d",
   "metadata": {},
   "source": [
    "Sekarang Kita Cek Banyaknya Data Korban Yang Selamat Dan Tidak Selamat Berdasarkan Pengelompokan Kolom PClass. Dapat Diperhatikan Bahwa Korban Yang Tidak Selamat Itu Banyak Pada PClass 3."
   ]
  },
  {
   "cell_type": "code",
   "execution_count": null,
   "id": "9e76c194",
   "metadata": {},
   "outputs": [],
   "source": [
    "sns.countplot(x=\"Survived\", hue=\"Pclass\", data=data)"
   ]
  },
  {
   "cell_type": "markdown",
   "id": "9e042a39",
   "metadata": {},
   "source": [
    "Kita Lihat Grafik Banyaknya Penumpang Berdasarkan Pengelompokan Umur. Dapat Dilihat Dari Grafik Bahwasannya Penumpang Banyak Berada Pada Umur 20 – 40 Tahun."
   ]
  },
  {
   "cell_type": "code",
   "execution_count": 13,
   "id": "20b06ab0",
   "metadata": {},
   "outputs": [
    {
     "data": {
      "text/plain": [
       "<Axes: ylabel='Frequency'>"
      ]
     },
     "execution_count": 13,
     "metadata": {},
     "output_type": "execute_result"
    },
    {
     "data": {
      "image/png": "[encoded data removed]",
      "text/plain": [
       "<Figure size 640x480 with 1 Axes>"
      ]
     },
     "metadata": {},
     "output_type": "display_data"
    }
   ],
   "source": [
    "data['Age'].plot.hist()"
   ]
  },
  {
   "cell_type": "markdown",
   "id": "8c99a0c6",
   "metadata": {},
   "source": [
    "Sekarang Kita Lihat Banyaknya Data Berdasarkan Kolom Fare (Tarif). Dapat Dilihat Bahwa Tarif Penumpang Paling Banyak Berada Pada Range 0 – 100."
   ]
  },
  {
   "cell_type": "code",
   "execution_count": 14,
   "id": "91500fab",
   "metadata": {},
   "outputs": [
    {
     "data": {
      "text/plain": [
       "<Axes: ylabel='Frequency'>"
      ]
     },
     "execution_count": 14,
     "metadata": {},
     "output_type": "execute_result"
    },
    {
     "data": {
      "image/png": "[encoded data removed]",
      "text/plain": [
       "<Figure size 1000x500 with 1 Axes>"
      ]
     },
     "metadata": {},
     "output_type": "display_data"
    }
   ],
   "source": [
    "data['Fare'].plot.hist(bins=20, figsize=(10,5))"
   ]
  },
  {
   "cell_type": "markdown",
   "id": "a73ee57d",
   "metadata": {},
   "source": [
    "Lalu Kita Cek Banyaknya Jumlah Anggota Keluarga Penumpang Ke Dalam Bentuk Grafik. Dapat Dilihat Bahwa Data Yang Paling Banyak Berada Pada Nilai 0 (Sendirian)."
   ]
  },
  {
   "cell_type": "code",
   "execution_count": 15,
   "id": "a7277ae6",
   "metadata": {},
   "outputs": [
    {
     "data": {
      "text/plain": [
       "<Axes: xlabel='SibSp', ylabel='count'>"
      ]
     },
     "execution_count": 15,
     "metadata": {},
     "output_type": "execute_result"
    },
    {
     "data": {
      "image/png": "[encoded data removed]",
      "text/plain": [
       "<Figure size 640x480 with 1 Axes>"
      ]
     },
     "metadata": {},
     "output_type": "display_data"
    }
   ],
   "source": [
    "sns.countplot(x='SibSp', data=data)"
   ]
  },
  {
   "cell_type": "markdown",
   "id": "d7c0d78e",
   "metadata": {},
   "source": [
    "Sebelum Melakukan Proses Analisa Data, Pertama-Tama Kita Harus Melakukan Pengecekan Terhadap Banyaknya Data Null/NaN (Kosong) Pada Dataset Kita. Dapat Kita Lihat Bahwa Data Yang Paling Banyak Kosong Berada Pada Kolom Cabin Dan Age."
   ]
  },
  {
   "cell_type": "code",
   "execution_count": 16,
   "id": "05abd11f",
   "metadata": {},
   "outputs": [
    {
     "data": {
      "text/plain": [
       "PassengerId      0\n",
       "Survived         0\n",
       "Pclass           0\n",
       "Name             0\n",
       "Sex              0\n",
       "Age            177\n",
       "SibSp            0\n",
       "Parch            0\n",
       "Ticket           0\n",
       "Fare             0\n",
       "Cabin          687\n",
       "Embarked         2\n",
       "dtype: int64"
      ]
     },
     "execution_count": 16,
     "metadata": {},
     "output_type": "execute_result"
    }
   ],
   "source": [
    "data.isnull().sum()"
   ]
  },
  {
   "cell_type": "markdown",
   "id": "62596df9",
   "metadata": {},
   "source": [
    "Disini Kita Juga Dapat Menggunakan Grafik Atau Heatmap Untuk Mengecek Banyaknya Data Yang Bernilai Kosong (Null/NaN) Pada Dataset Kita. Hasil Output Yang Ditampilkan Sama Seperti Pada Sintak Sebelumnya, Perbedaannya Pada Proses Penampilan Data Saja Yaitu Ke Dalam Bentuk Grafik. Data Yang Memiliki Nilai Kosong (Null/NaN) Akan Digambarkan Dalam Bentuk Garis Berwarna Kuning."
   ]
  },
  {
   "cell_type": "code",
   "execution_count": 17,
   "id": "e7106c99",
   "metadata": {},
   "outputs": [
    {
     "data": {
      "text/plain": [
       "<Axes: >"
      ]
     },
     "execution_count": 17,
     "metadata": {},
     "output_type": "execute_result"
    },
    {
     "data": {
      "image/png": "[encoded data removed]",
      "text/plain": [
       "<Figure size 640x480 with 2 Axes>"
      ]
     },
     "metadata": {},
     "output_type": "display_data"
    }
   ],
   "source": [
    "sns.heatmap(data.isnull(), yticklabels=False, cmap='viridis')"
   ]
  },
  {
   "cell_type": "markdown",
   "id": "1a5f68e0",
   "metadata": {},
   "source": [
    "Sekarang Kita Akan Melihat Range Umur Penumpang Berdasarkan Grafik Box Yang Dikelompokkan Berdasarkan Kolom Pclass. Dapat Kita Lihat Bahwa Class 1 Banyak Penumpang Yang Berumur 30-50 Tahun, Class 2 Banyak Penumpang Berumur 25-40 Tahun Sedangkan Class 3 Banyak Penumpang Yang Berumur 20-30 Tahun."
   ]
  },
  {
   "cell_type": "code",
   "execution_count": 18,
   "id": "87568ca4",
   "metadata": {},
   "outputs": [
    {
     "data": {
      "text/plain": [
       "<Axes: xlabel='Pclass', ylabel='Age'>"
      ]
     },
     "execution_count": 18,
     "metadata": {},
     "output_type": "execute_result"
    },
    {
     "data": {
      "image/png": "[encoded data removed]",
      "text/plain": [
       "<Figure size 640x480 with 1 Axes>"
      ]
     },
     "metadata": {},
     "output_type": "display_data"
    }
   ],
   "source": [
    "sns.boxplot(x='Pclass',y='Age', data=data)"
   ]
  },
  {
   "cell_type": "markdown",
   "id": "827bc4b5",
   "metadata": {},
   "source": [
    "Selanjutnya Kita Hapus Kolom Cabin Karena Kita Tidak Membutuhkan Kolom Ini Dalam Proses Analisa Data Kita. Alasan Lain Kolom Ini Dihapus Karena Banyaknya Data Yang Kosong Pada Kolom Cabin Ini Sehingga Kurang Baik Untuk Proses Analisa Data."
   ]
  },
  {
   "cell_type": "code",
   "execution_count": null,
   "id": "1ed1e085",
   "metadata": {},
   "outputs": [],
   "source": [
    "data.drop('Cabin', axis=1, inplace=True)"
   ]
  },
  {
   "cell_type": "markdown",
   "id": "d635fc65",
   "metadata": {},
   "source": [
    "Berdasarkan Hasil Grafik Yang Diperoleh Dari Pengelompokan Kolom Pclass Dan Age. Sekarang Kita Akan Melakukan Pengecekan Rata-Rata Umur Berdasarkan Pengelompokan Class Tersebut. Dapat Dilihat Bahwa Class 1 Memiliki Rata-Rata 38 Tahun, Class 2 Memiliki Rata-Rata 29 Tahun Dan Class 3 Memiliki Rata-Rata 25 Tahun."
   ]
  },
  {
   "cell_type": "code",
   "execution_count": 51,
   "id": "a953a212",
   "metadata": {},
   "outputs": [
    {
     "name": "stdout",
     "output_type": "stream",
     "text": [
      "Rata-Rata Umur Berdasarkan Pclass 1 : 29 Tahun\n",
      "Rata-Rata Umur Berdasarkan Pclass 2 : 30 Tahun\n",
      "Rata-Rata Umur Berdasarkan Pclass 3 : 36 Tahun\n"
     ]
    }
   ],
   "source": [
    "kelas_1 = data.loc[data['Pclass'] == 1,'Age'].mean()\n",
    "kelas_2 = data.loc[data['Pclass'] == 2,'Age'].mean()\n",
    "kelas_3 = data.loc[data['Pclass'] == 3,'Age'].mean()\n",
    "\n",
    "print(\"Rata-Rata Umur Berdasarkan Pclass 1 : %i\" %kelas_1, \"Tahun\")\n",
    "print(\"Rata-Rata Umur Berdasarkan Pclass 2 : %i\" %kelas_2, \"Tahun\")\n",
    "print(\"Rata-Rata Umur Berdasarkan Pclass 3 : %i\" %kelas_3, \"Tahun\")"
   ]
  },
  {
   "cell_type": "markdown",
   "id": "bb072eba",
   "metadata": {},
   "source": [
    "Setelah Itu Kita Buat Sebuat Function Atau Method Untuk Mengatur Nilai Yang Kosong Pada Kolom Age Berdasarkan Hasil Rata-Rata Yang Kita Peroleh Dari Sintak Sebelumnya."
   ]
  },
  {
   "cell_type": "code",
   "execution_count": 65,
   "id": "9fe6d305",
   "metadata": {},
   "outputs": [
    {
     "name": "stdout",
     "output_type": "stream",
     "text": [
      "    Age  Pclass\n",
      "0  22.0       1\n",
      "1   NaN       2\n",
      "2  45.0       3\n",
      "3   NaN       1\n",
      "4  30.0       2\n",
      "5  40.0       3\n",
      "6  27.0       1\n",
      "7  32.0       2\n",
      "8   NaN       3\n"
     ]
    }
   ],
   "source": [
    "data = pd.DataFrame({\n",
    "    'Age': [22, None, 45, None, 30, 40, 27, 32, None],\n",
    "    'Pclass': [1, 2, 3, 1, 2, 3, 1, 2, 3]\n",
    "})\n",
    "\n",
    "def setting_umur(cols):\n",
    "    Age = cols[0]\n",
    "    Pclass = cols[1]\n",
    "    \n",
    "    if pd.isnull(Age):\n",
    "        if Pclass == 1:\n",
    "            return 29\n",
    "        elif Pclass == 2:\n",
    "            return 30\n",
    "        elif Pclass == 3:\n",
    "            return 36\n",
    "    else:\n",
    "        return Age\n",
    "\n",
    "print(data)\n"
   ]
  },
  {
   "cell_type": "markdown",
   "id": "0a76eac5",
   "metadata": {},
   "source": [
    "Sekarang Kita Aplikasikan Function Atau Method Yang Kita Buat Ini Ke Dalam Kolom Age Yang Kosong Tersebut."
   ]
  },
  {
   "cell_type": "code",
   "execution_count": 67,
   "id": "6f610ba3",
   "metadata": {},
   "outputs": [
    {
     "name": "stdout",
     "output_type": "stream",
     "text": [
      "    Age  Pclass\n",
      "0  22.0       1\n",
      "1   NaN       2\n",
      "2  45.0       3\n",
      "3   NaN       1\n",
      "4  30.0       2\n",
      "5  40.0       3\n",
      "6  27.0       1\n",
      "7  32.0       2\n",
      "8   NaN       3\n"
     ]
    }
   ],
   "source": [
    "data = pd.DataFrame({\n",
    "    'Age': [22, None, 45, None, 30, 40, 27, 32, None],\n",
    "    'Pclass': [1, 2, 3, 1, 2, 3, 1, 2, 3]\n",
    "})\n",
    "\n",
    "def setting_umur(cols):\n",
    "    Age = cols[0]\n",
    "    Pclass = cols[1]\n",
    "    \n",
    "    if pd.isnull(Age):\n",
    "        if Pclass == 1:\n",
    "            return 29\n",
    "        elif Pclass == 2:\n",
    "            return 30\n",
    "        elif Pclass == 3:\n",
    "            return 36\n",
    "    else:\n",
    "        return Age\n",
    "\n",
    "print(data)\n"
   ]
  },
  {
   "cell_type": "markdown",
   "id": "404a5ea9",
   "metadata": {},
   "source": [
    "Lalu Kita Hapus Data Yang Memiliki Nilai Kosong. Dari Hasil Pengecekan Sebelumnya Bahwa Masih Ada Data Yang Kosong Pada Kolom Embarked Sebanyak 2 Data. Data Ini Kita Hapus Menggunakan Sintak Dropna()."
   ]
  },
  {
   "cell_type": "code",
   "execution_count": 70,
   "id": "2148320a",
   "metadata": {},
   "outputs": [
    {
     "name": "stdout",
     "output_type": "stream",
     "text": [
      "    Age  Pclass     Name\n",
      "0  22.0       1     John\n",
      "1   NaN       2     Anna\n",
      "2  45.0       3    Peter\n",
      "3   NaN       1    Linda\n",
      "4  30.0       2    James\n",
      "5  40.0       3    Emily\n",
      "6  27.0       1  Michael\n",
      "7  32.0       2    Sarah\n",
      "8   NaN       3    David\n"
     ]
    }
   ],
   "source": [
    "data = pd.DataFrame({\n",
    "    'Age': [22, None, 45, None, 30, 40, 27, 32, None],\n",
    "    'Pclass': [1, 2, 3, 1, 2, 3, 1, 2, 3],\n",
    "    'Name': ['John', 'Anna', 'Peter', 'Linda', 'James', 'Emily', 'Michael', 'Sarah', 'David'] # Contoh kolom lain\n",
    "})\n",
    "\n",
    "def setting_umur(cols):\n",
    "    Age = cols[0]\n",
    "    Pclass = cols[1]\n",
    "    \n",
    "    if pd.isnull(Age):\n",
    "        if Pclass == 1:\n",
    "            return 29\n",
    "        elif Pclass == 2:\n",
    "            return 30\n",
    "        elif Pclass == 3:\n",
    "            return 36\n",
    "    else:\n",
    "        return Age\n",
    "\n",
    "\n",
    "print(data)\n"
   ]
  },
  {
   "cell_type": "markdown",
   "id": "f83256f9",
   "metadata": {},
   "source": [
    "Selanjutnya Kita Cek Kembali Dataset Kita Apakah Masih Memiliki Data Yang Bernilai Kosong Atau Tidak Pada Setiap Kolom Dataset. Dari Deskripsi Yang Diperoleh Bahwa Tidak Ada Lagi Data Yang Bernilai Kosong Pada Dataset Kita."
   ]
  },
  {
   "cell_type": "code",
   "execution_count": 25,
   "id": "fff38f56",
   "metadata": {},
   "outputs": [
    {
     "data": {
      "text/plain": [
       "PassengerId    0\n",
       "Survived       0\n",
       "Pclass         0\n",
       "Name           0\n",
       "Sex            0\n",
       "Age            0\n",
       "SibSp          0\n",
       "Parch          0\n",
       "Ticket         0\n",
       "Fare           0\n",
       "Embarked       0\n",
       "dtype: int64"
      ]
     },
     "execution_count": 25,
     "metadata": {},
     "output_type": "execute_result"
    }
   ],
   "source": [
    "data.isnull().sum()"
   ]
  },
  {
   "cell_type": "markdown",
   "id": "497db5bd",
   "metadata": {},
   "source": [
    "Sekarang Kita Lihat 2 Data Pertama Kita Menggunakan Sintak Head(). Tujuannya Disini Untuk Memeriksa Format Data Dari Dataset Yang Kita Miliki."
   ]
  },
  {
   "cell_type": "code",
   "execution_count": 26,
   "id": "adbd9997",
   "metadata": {},
   "outputs": [
    {
     "data": {
      "text/html": [
       "<div>\n",
       "<style scoped>\n",
       "    .dataframe tbody tr th:only-of-type {\n",
       "        vertical-align: middle;\n",
       "    }\n",
       "\n",
       "    .dataframe tbody tr th {\n",
       "        vertical-align: top;\n",
       "    }\n",
       "\n",
       "    .dataframe thead th {\n",
       "        text-align: right;\n",
       "    }\n",
       "</style>\n",
       "<table border=\"1\" class=\"dataframe\">\n",
       "  <thead>\n",
       "    <tr style=\"text-align: right;\">\n",
       "      <th></th>\n",
       "      <th>PassengerId</th>\n",
       "      <th>Survived</th>\n",
       "      <th>Pclass</th>\n",
       "      <th>Name</th>\n",
       "      <th>Sex</th>\n",
       "      <th>Age</th>\n",
       "      <th>SibSp</th>\n",
       "      <th>Parch</th>\n",
       "      <th>Ticket</th>\n",
       "      <th>Fare</th>\n",
       "      <th>Embarked</th>\n",
       "    </tr>\n",
       "  </thead>\n",
       "  <tbody>\n",
       "    <tr>\n",
       "      <th>0</th>\n",
       "      <td>1</td>\n",
       "      <td>0</td>\n",
       "      <td>3</td>\n",
       "      <td>Braund, Mr. Owen Harris</td>\n",
       "      <td>male</td>\n",
       "      <td>22.0</td>\n",
       "      <td>1</td>\n",
       "      <td>0</td>\n",
       "      <td>A/5 21171</td>\n",
       "      <td>7.2500</td>\n",
       "      <td>S</td>\n",
       "    </tr>\n",
       "    <tr>\n",
       "      <th>1</th>\n",
       "      <td>2</td>\n",
       "      <td>1</td>\n",
       "      <td>1</td>\n",
       "      <td>Cumings, Mrs. John Bradley (Florence Briggs Th...</td>\n",
       "      <td>female</td>\n",
       "      <td>38.0</td>\n",
       "      <td>1</td>\n",
       "      <td>0</td>\n",
       "      <td>PC 17599</td>\n",
       "      <td>71.2833</td>\n",
       "      <td>C</td>\n",
       "    </tr>\n",
       "  </tbody>\n",
       "</table>\n",
       "</div>"
      ],
      "text/plain": [
       "   PassengerId  Survived  Pclass  \\\n",
       "0            1         0       3   \n",
       "1            2         1       1   \n",
       "\n",
       "                                                Name     Sex   Age  SibSp  \\\n",
       "0                            Braund, Mr. Owen Harris    male  22.0      1   \n",
       "1  Cumings, Mrs. John Bradley (Florence Briggs Th...  female  38.0      1   \n",
       "\n",
       "   Parch     Ticket     Fare Embarked  \n",
       "0      0  A/5 21171   7.2500        S  \n",
       "1      0   PC 17599  71.2833        C  "
      ]
     },
     "execution_count": 26,
     "metadata": {},
     "output_type": "execute_result"
    }
   ],
   "source": [
    "data.head(2)"
   ]
  },
  {
   "cell_type": "markdown",
   "id": "52653517",
   "metadata": {},
   "source": [
    "Selanjutnya Kita Pisahkan Data Jenis Kelamin (Sex) Berdasarkan Value Yang Dimilikinya. Dari Proses Ini Kita Akan Memiliki 2 Kolom Yaitu Male Dan Female."
   ]
  },
  {
   "cell_type": "code",
   "execution_count": 3,
   "id": "99e5d17b",
   "metadata": {},
   "outputs": [
    {
     "data": {
      "text/html": [
       "<div>\n",
       "<style scoped>\n",
       "    .dataframe tbody tr th:only-of-type {\n",
       "        vertical-align: middle;\n",
       "    }\n",
       "\n",
       "    .dataframe tbody tr th {\n",
       "        vertical-align: top;\n",
       "    }\n",
       "\n",
       "    .dataframe thead th {\n",
       "        text-align: right;\n",
       "    }\n",
       "</style>\n",
       "<table border=\"1\" class=\"dataframe\">\n",
       "  <thead>\n",
       "    <tr style=\"text-align: right;\">\n",
       "      <th></th>\n",
       "      <th>female</th>\n",
       "      <th>male</th>\n",
       "    </tr>\n",
       "  </thead>\n",
       "  <tbody>\n",
       "    <tr>\n",
       "      <th>0</th>\n",
       "      <td>False</td>\n",
       "      <td>True</td>\n",
       "    </tr>\n",
       "    <tr>\n",
       "      <th>1</th>\n",
       "      <td>True</td>\n",
       "      <td>False</td>\n",
       "    </tr>\n",
       "    <tr>\n",
       "      <th>2</th>\n",
       "      <td>True</td>\n",
       "      <td>False</td>\n",
       "    </tr>\n",
       "    <tr>\n",
       "      <th>3</th>\n",
       "      <td>False</td>\n",
       "      <td>True</td>\n",
       "    </tr>\n",
       "    <tr>\n",
       "      <th>4</th>\n",
       "      <td>False</td>\n",
       "      <td>True</td>\n",
       "    </tr>\n",
       "    <tr>\n",
       "      <th>5</th>\n",
       "      <td>True</td>\n",
       "      <td>False</td>\n",
       "    </tr>\n",
       "    <tr>\n",
       "      <th>6</th>\n",
       "      <td>False</td>\n",
       "      <td>True</td>\n",
       "    </tr>\n",
       "    <tr>\n",
       "      <th>7</th>\n",
       "      <td>True</td>\n",
       "      <td>False</td>\n",
       "    </tr>\n",
       "    <tr>\n",
       "      <th>8</th>\n",
       "      <td>False</td>\n",
       "      <td>True</td>\n",
       "    </tr>\n",
       "  </tbody>\n",
       "</table>\n",
       "</div>"
      ],
      "text/plain": [
       "   female   male\n",
       "0   False   True\n",
       "1    True  False\n",
       "2    True  False\n",
       "3   False   True\n",
       "4   False   True\n",
       "5    True  False\n",
       "6   False   True\n",
       "7    True  False\n",
       "8   False   True"
      ]
     },
     "execution_count": 3,
     "metadata": {},
     "output_type": "execute_result"
    }
   ],
   "source": [
    "pd.get_dummies(data['Sex'])"
   ]
  },
  {
   "cell_type": "markdown",
   "id": "23bed113",
   "metadata": {},
   "source": [
    "Lalu Kita Ambil Data Penumpang Yang Berjenis Kelamin Laki-Laki Untuk Proses Analisa Kita Selanjutnya. Hal Ini Dikarenakan Data Korban Yang Tidak Selamat Banyak Berjenis Kelamin Laki-Laki."
   ]
  },
  {
   "cell_type": "code",
   "execution_count": 1,
   "id": "a166abf5",
   "metadata": {},
   "outputs": [
    {
     "name": "stdout",
     "output_type": "stream",
     "text": [
      "    male\n",
      "0   True\n",
      "1  False\n",
      "2  False\n",
      "3   True\n",
      "4   True\n"
     ]
    }
   ],
   "source": [
    "\n",
    "data = pd.DataFrame({\n",
    "    'Sex': ['male', 'female', 'female', 'male', 'male', 'female', 'male', 'female', 'male']\n",
    "})\n",
    "\n",
    "jenkel = pd.get_dummies(data['Sex'], drop_first=True)\n",
    "\n",
    "print(jenkel.head())\n"
   ]
  },
  {
   "cell_type": "markdown",
   "id": "6c1e0224",
   "metadata": {},
   "source": [
    "Selanjutnya Kita Lakukan Juga Hal Yang Sama Pada Kolom Embarked. Disini Kita Akan Memisahkan Setiap Data Yang Ada Pada Kolom Ini Menjadi Beberapa Kolom. Pada Tahapan Ini Kita Juga Menghapus Kolom Data Embarked = C"
   ]
  },
  {
   "cell_type": "code",
   "execution_count": 29,
   "id": "6c04b7b0",
   "metadata": {},
   "outputs": [
    {
     "data": {
      "text/html": [
       "<div>\n",
       "<style scoped>\n",
       "    .dataframe tbody tr th:only-of-type {\n",
       "        vertical-align: middle;\n",
       "    }\n",
       "\n",
       "    .dataframe tbody tr th {\n",
       "        vertical-align: top;\n",
       "    }\n",
       "\n",
       "    .dataframe thead th {\n",
       "        text-align: right;\n",
       "    }\n",
       "</style>\n",
       "<table border=\"1\" class=\"dataframe\">\n",
       "  <thead>\n",
       "    <tr style=\"text-align: right;\">\n",
       "      <th></th>\n",
       "      <th>Q</th>\n",
       "      <th>S</th>\n",
       "    </tr>\n",
       "  </thead>\n",
       "  <tbody>\n",
       "    <tr>\n",
       "      <th>0</th>\n",
       "      <td>False</td>\n",
       "      <td>True</td>\n",
       "    </tr>\n",
       "    <tr>\n",
       "      <th>1</th>\n",
       "      <td>False</td>\n",
       "      <td>False</td>\n",
       "    </tr>\n",
       "    <tr>\n",
       "      <th>2</th>\n",
       "      <td>False</td>\n",
       "      <td>True</td>\n",
       "    </tr>\n",
       "    <tr>\n",
       "      <th>3</th>\n",
       "      <td>False</td>\n",
       "      <td>True</td>\n",
       "    </tr>\n",
       "    <tr>\n",
       "      <th>4</th>\n",
       "      <td>False</td>\n",
       "      <td>True</td>\n",
       "    </tr>\n",
       "  </tbody>\n",
       "</table>\n",
       "</div>"
      ],
      "text/plain": [
       "       Q      S\n",
       "0  False   True\n",
       "1  False  False\n",
       "2  False   True\n",
       "3  False   True\n",
       "4  False   True"
      ]
     },
     "execution_count": 29,
     "metadata": {},
     "output_type": "execute_result"
    }
   ],
   "source": [
    "emb = pd.get_dummies(data['Embarked'], drop_first=True) \n",
    "emb.head()"
   ]
  },
  {
   "cell_type": "markdown",
   "id": "b9f96f23",
   "metadata": {},
   "source": [
    "Lalu Kita Pisahkan Dan Simpan Juga Untuk Kolom Pclass. Proses Ini Digunakan Untuk Memecahkan Data Kategorial Menjadi Data Tunggal. Pada Tahapan Ini Kita Menghapus Kolom Dengan Nilai Pclass = 1 Karena Korban Dari Titanic Pada Pclass 1 Sedikit."
   ]
  },
  {
   "cell_type": "code",
   "execution_count": 30,
   "id": "393fabba",
   "metadata": {},
   "outputs": [
    {
     "data": {
      "text/html": [
       "<div>\n",
       "<style scoped>\n",
       "    .dataframe tbody tr th:only-of-type {\n",
       "        vertical-align: middle;\n",
       "    }\n",
       "\n",
       "    .dataframe tbody tr th {\n",
       "        vertical-align: top;\n",
       "    }\n",
       "\n",
       "    .dataframe thead th {\n",
       "        text-align: right;\n",
       "    }\n",
       "</style>\n",
       "<table border=\"1\" class=\"dataframe\">\n",
       "  <thead>\n",
       "    <tr style=\"text-align: right;\">\n",
       "      <th></th>\n",
       "      <th>2</th>\n",
       "      <th>3</th>\n",
       "    </tr>\n",
       "  </thead>\n",
       "  <tbody>\n",
       "    <tr>\n",
       "      <th>0</th>\n",
       "      <td>False</td>\n",
       "      <td>True</td>\n",
       "    </tr>\n",
       "    <tr>\n",
       "      <th>1</th>\n",
       "      <td>False</td>\n",
       "      <td>False</td>\n",
       "    </tr>\n",
       "    <tr>\n",
       "      <th>2</th>\n",
       "      <td>False</td>\n",
       "      <td>True</td>\n",
       "    </tr>\n",
       "    <tr>\n",
       "      <th>3</th>\n",
       "      <td>False</td>\n",
       "      <td>False</td>\n",
       "    </tr>\n",
       "    <tr>\n",
       "      <th>4</th>\n",
       "      <td>False</td>\n",
       "      <td>True</td>\n",
       "    </tr>\n",
       "  </tbody>\n",
       "</table>\n",
       "</div>"
      ],
      "text/plain": [
       "       2      3\n",
       "0  False   True\n",
       "1  False  False\n",
       "2  False   True\n",
       "3  False  False\n",
       "4  False   True"
      ]
     },
     "execution_count": 30,
     "metadata": {},
     "output_type": "execute_result"
    }
   ],
   "source": [
    "Pcl = pd.get_dummies(data['Pclass'], drop_first=True) \n",
    "Pcl.head()"
   ]
  },
  {
   "cell_type": "markdown",
   "id": "8d0de836",
   "metadata": {},
   "source": [
    "Setelah Semua Data Dipisahkan, Tahapan Selanjutnya Kita Masukkan Seluruh Variabel Yang Menyimpan Data Pemisahan Tadi Ke Dalam Dataset Kita. Dan Cek Kondisi Dari Dataset Kita. Disini Dapat Kita Lihat Bahwa Dataset Kita Memiliki Tambahan Beberapa Kolom Seperti Male, Q, S, 2 Dan 3."
   ]
  },
  {
   "cell_type": "code",
   "execution_count": 31,
   "id": "5fe028b8",
   "metadata": {},
   "outputs": [
    {
     "data": {
      "text/html": [
       "<div>\n",
       "<style scoped>\n",
       "    .dataframe tbody tr th:only-of-type {\n",
       "        vertical-align: middle;\n",
       "    }\n",
       "\n",
       "    .dataframe tbody tr th {\n",
       "        vertical-align: top;\n",
       "    }\n",
       "\n",
       "    .dataframe thead th {\n",
       "        text-align: right;\n",
       "    }\n",
       "</style>\n",
       "<table border=\"1\" class=\"dataframe\">\n",
       "  <thead>\n",
       "    <tr style=\"text-align: right;\">\n",
       "      <th></th>\n",
       "      <th>PassengerId</th>\n",
       "      <th>Survived</th>\n",
       "      <th>Pclass</th>\n",
       "      <th>Name</th>\n",
       "      <th>Sex</th>\n",
       "      <th>Age</th>\n",
       "      <th>SibSp</th>\n",
       "      <th>Parch</th>\n",
       "      <th>Ticket</th>\n",
       "      <th>Fare</th>\n",
       "      <th>Embarked</th>\n",
       "      <th>male</th>\n",
       "      <th>Q</th>\n",
       "      <th>S</th>\n",
       "      <th>2</th>\n",
       "      <th>3</th>\n",
       "    </tr>\n",
       "  </thead>\n",
       "  <tbody>\n",
       "    <tr>\n",
       "      <th>0</th>\n",
       "      <td>1</td>\n",
       "      <td>0</td>\n",
       "      <td>3</td>\n",
       "      <td>Braund, Mr. Owen Harris</td>\n",
       "      <td>male</td>\n",
       "      <td>22.0</td>\n",
       "      <td>1</td>\n",
       "      <td>0</td>\n",
       "      <td>A/5 21171</td>\n",
       "      <td>7.2500</td>\n",
       "      <td>S</td>\n",
       "      <td>True</td>\n",
       "      <td>False</td>\n",
       "      <td>True</td>\n",
       "      <td>False</td>\n",
       "      <td>True</td>\n",
       "    </tr>\n",
       "    <tr>\n",
       "      <th>1</th>\n",
       "      <td>2</td>\n",
       "      <td>1</td>\n",
       "      <td>1</td>\n",
       "      <td>Cumings, Mrs. John Bradley (Florence Briggs Th...</td>\n",
       "      <td>female</td>\n",
       "      <td>38.0</td>\n",
       "      <td>1</td>\n",
       "      <td>0</td>\n",
       "      <td>PC 17599</td>\n",
       "      <td>71.2833</td>\n",
       "      <td>C</td>\n",
       "      <td>False</td>\n",
       "      <td>False</td>\n",
       "      <td>False</td>\n",
       "      <td>False</td>\n",
       "      <td>False</td>\n",
       "    </tr>\n",
       "    <tr>\n",
       "      <th>2</th>\n",
       "      <td>3</td>\n",
       "      <td>1</td>\n",
       "      <td>3</td>\n",
       "      <td>Heikkinen, Miss. Laina</td>\n",
       "      <td>female</td>\n",
       "      <td>26.0</td>\n",
       "      <td>0</td>\n",
       "      <td>0</td>\n",
       "      <td>STON/O2. 3101282</td>\n",
       "      <td>7.9250</td>\n",
       "      <td>S</td>\n",
       "      <td>False</td>\n",
       "      <td>False</td>\n",
       "      <td>True</td>\n",
       "      <td>False</td>\n",
       "      <td>True</td>\n",
       "    </tr>\n",
       "    <tr>\n",
       "      <th>3</th>\n",
       "      <td>4</td>\n",
       "      <td>1</td>\n",
       "      <td>1</td>\n",
       "      <td>Futrelle, Mrs. Jacques Heath (Lily May Peel)</td>\n",
       "      <td>female</td>\n",
       "      <td>35.0</td>\n",
       "      <td>1</td>\n",
       "      <td>0</td>\n",
       "      <td>113803</td>\n",
       "      <td>53.1000</td>\n",
       "      <td>S</td>\n",
       "      <td>False</td>\n",
       "      <td>False</td>\n",
       "      <td>True</td>\n",
       "      <td>False</td>\n",
       "      <td>False</td>\n",
       "    </tr>\n",
       "    <tr>\n",
       "      <th>4</th>\n",
       "      <td>5</td>\n",
       "      <td>0</td>\n",
       "      <td>3</td>\n",
       "      <td>Allen, Mr. William Henry</td>\n",
       "      <td>male</td>\n",
       "      <td>35.0</td>\n",
       "      <td>0</td>\n",
       "      <td>0</td>\n",
       "      <td>373450</td>\n",
       "      <td>8.0500</td>\n",
       "      <td>S</td>\n",
       "      <td>True</td>\n",
       "      <td>False</td>\n",
       "      <td>True</td>\n",
       "      <td>False</td>\n",
       "      <td>True</td>\n",
       "    </tr>\n",
       "  </tbody>\n",
       "</table>\n",
       "</div>"
      ],
      "text/plain": [
       "   PassengerId  Survived  Pclass  \\\n",
       "0            1         0       3   \n",
       "1            2         1       1   \n",
       "2            3         1       3   \n",
       "3            4         1       1   \n",
       "4            5         0       3   \n",
       "\n",
       "                                                Name     Sex   Age  SibSp  \\\n",
       "0                            Braund, Mr. Owen Harris    male  22.0      1   \n",
       "1  Cumings, Mrs. John Bradley (Florence Briggs Th...  female  38.0      1   \n",
       "2                             Heikkinen, Miss. Laina  female  26.0      0   \n",
       "3       Futrelle, Mrs. Jacques Heath (Lily May Peel)  female  35.0      1   \n",
       "4                           Allen, Mr. William Henry    male  35.0      0   \n",
       "\n",
       "   Parch            Ticket     Fare Embarked   male      Q      S      2  \\\n",
       "0      0         A/5 21171   7.2500        S   True  False   True  False   \n",
       "1      0          PC 17599  71.2833        C  False  False  False  False   \n",
       "2      0  STON/O2. 3101282   7.9250        S  False  False   True  False   \n",
       "3      0            113803  53.1000        S  False  False   True  False   \n",
       "4      0            373450   8.0500        S   True  False   True  False   \n",
       "\n",
       "       3  \n",
       "0   True  \n",
       "1  False  \n",
       "2   True  \n",
       "3  False  \n",
       "4   True  "
      ]
     },
     "execution_count": 31,
     "metadata": {},
     "output_type": "execute_result"
    }
   ],
   "source": [
    "data = pd.concat([data, jenkel, emb, Pcl], axis=1) \n",
    "data.head()"
   ]
  },
  {
   "cell_type": "markdown",
   "id": "d21735d9",
   "metadata": {},
   "source": [
    "Selanjutnya Kita Hapus Beberapa Kolom Yang Tidak Kita Butuhkan Pada Proses Analisa Data Kita Nantinya. Adapun Kolom Yang Dihapus Adalah Sex, Embarked, Pclass, PassengerID, Name Dan Ticket."
   ]
  },
  {
   "cell_type": "code",
   "execution_count": 32,
   "id": "59ed2a9e",
   "metadata": {},
   "outputs": [
    {
     "data": {
      "text/html": [
       "<div>\n",
       "<style scoped>\n",
       "    .dataframe tbody tr th:only-of-type {\n",
       "        vertical-align: middle;\n",
       "    }\n",
       "\n",
       "    .dataframe tbody tr th {\n",
       "        vertical-align: top;\n",
       "    }\n",
       "\n",
       "    .dataframe thead th {\n",
       "        text-align: right;\n",
       "    }\n",
       "</style>\n",
       "<table border=\"1\" class=\"dataframe\">\n",
       "  <thead>\n",
       "    <tr style=\"text-align: right;\">\n",
       "      <th></th>\n",
       "      <th>Survived</th>\n",
       "      <th>Age</th>\n",
       "      <th>SibSp</th>\n",
       "      <th>Parch</th>\n",
       "      <th>Fare</th>\n",
       "      <th>male</th>\n",
       "      <th>Q</th>\n",
       "      <th>S</th>\n",
       "      <th>2</th>\n",
       "      <th>3</th>\n",
       "    </tr>\n",
       "  </thead>\n",
       "  <tbody>\n",
       "    <tr>\n",
       "      <th>0</th>\n",
       "      <td>0</td>\n",
       "      <td>22.0</td>\n",
       "      <td>1</td>\n",
       "      <td>0</td>\n",
       "      <td>7.2500</td>\n",
       "      <td>True</td>\n",
       "      <td>False</td>\n",
       "      <td>True</td>\n",
       "      <td>False</td>\n",
       "      <td>True</td>\n",
       "    </tr>\n",
       "    <tr>\n",
       "      <th>1</th>\n",
       "      <td>1</td>\n",
       "      <td>38.0</td>\n",
       "      <td>1</td>\n",
       "      <td>0</td>\n",
       "      <td>71.2833</td>\n",
       "      <td>False</td>\n",
       "      <td>False</td>\n",
       "      <td>False</td>\n",
       "      <td>False</td>\n",
       "      <td>False</td>\n",
       "    </tr>\n",
       "    <tr>\n",
       "      <th>2</th>\n",
       "      <td>1</td>\n",
       "      <td>26.0</td>\n",
       "      <td>0</td>\n",
       "      <td>0</td>\n",
       "      <td>7.9250</td>\n",
       "      <td>False</td>\n",
       "      <td>False</td>\n",
       "      <td>True</td>\n",
       "      <td>False</td>\n",
       "      <td>True</td>\n",
       "    </tr>\n",
       "    <tr>\n",
       "      <th>3</th>\n",
       "      <td>1</td>\n",
       "      <td>35.0</td>\n",
       "      <td>1</td>\n",
       "      <td>0</td>\n",
       "      <td>53.1000</td>\n",
       "      <td>False</td>\n",
       "      <td>False</td>\n",
       "      <td>True</td>\n",
       "      <td>False</td>\n",
       "      <td>False</td>\n",
       "    </tr>\n",
       "    <tr>\n",
       "      <th>4</th>\n",
       "      <td>0</td>\n",
       "      <td>35.0</td>\n",
       "      <td>0</td>\n",
       "      <td>0</td>\n",
       "      <td>8.0500</td>\n",
       "      <td>True</td>\n",
       "      <td>False</td>\n",
       "      <td>True</td>\n",
       "      <td>False</td>\n",
       "      <td>True</td>\n",
       "    </tr>\n",
       "  </tbody>\n",
       "</table>\n",
       "</div>"
      ],
      "text/plain": [
       "   Survived   Age  SibSp  Parch     Fare   male      Q      S      2      3\n",
       "0         0  22.0      1      0   7.2500   True  False   True  False   True\n",
       "1         1  38.0      1      0  71.2833  False  False  False  False  False\n",
       "2         1  26.0      0      0   7.9250  False  False   True  False   True\n",
       "3         1  35.0      1      0  53.1000  False  False   True  False  False\n",
       "4         0  35.0      0      0   8.0500   True  False   True  False   True"
      ]
     },
     "execution_count": 32,
     "metadata": {},
     "output_type": "execute_result"
    }
   ],
   "source": [
    "data.drop(['Sex','Embarked','Pclass', 'PassengerId','Name','Ticket'], axis=1, inplace=True) \n",
    "data.head()"
   ]
  },
  {
   "cell_type": "markdown",
   "id": "4390636d",
   "metadata": {},
   "source": [
    "Analisa Data Menggunakan Logistic Regression\n",
    "\n",
    "Sebelum Melakukan Analisa Data Menggunakan Logistic Regression, Pertama-Tama Kita Harus Memisahkan Terlebih Dahulu Antara Variabel Dependen (Y) Dan Variabel Independent (X). Untuk Variabel Y Yaitu Kolom Survived Dan Varibel X Yaitu Kolom Selain Kolom Survived. Hal Ini Bertujuan Untuk Melakukan Prediksi Korban (Selamat  / Tidak Selamat) Berdasarkan Kolom Variabel X."
   ]
  },
  {
   "cell_type": "markdown",
   "id": "4b55f051",
   "metadata": {},
   "source": [
    "Sekian Materi Tentang Analisa Data Korban Titanic Menggunakan Pemograman PYTHON "
   ]
  }
 ],
 "metadata": {
  "kernelspec": {
   "display_name": "Python 3 (ipykernel)",
   "language": "python",
   "name": "python3"
  },
  "language_info": {
   "codemirror_mode": {
    "name": "ipython",
    "version": 3
   },
   "file_extension": ".py",
   "mimetype": "text/x-python",
   "name": "python",
   "nbconvert_exporter": "python",
   "pygments_lexer": "ipython3",
   "version": "3.11.7"
  }
 },
 "nbformat": 4,
 "nbformat_minor": 5
}
